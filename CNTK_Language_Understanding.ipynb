{
  "cells": [
    {
      "metadata": {},
      "cell_type": "markdown",
      "source": "# CNTK 202: Language Understanding with Recurrent Networks\n\nThis tutorial shows how to implement a recurrent network to process text,\nfor the [Air Travel Information Services](https://catalog.ldc.upenn.edu/LDC95S26) \n(ATIS) task of slot tagging (tag individual words to their respective classes, \nwhere the classes are provided as labels in the training data set).\nWe will start with a straight-forward (linear) embedding of the words followed by a recurrent LSTM.\nThis will then be extended to include neighboring words and run bidirectionally.\nLastly, we will turn this system into an intent classifier.  \n\nThe techniques you will practice are:\n* model description by composing layer blocks, a convenient way to compose \n  networks/models without requiring the need to write formulas,\n* creating your own layer block\n* variables with different sequence lengths in the same network\n* training the network\n\nWe assume that you are familiar with basics of deep learning, and these specific concepts:\n* recurrent networks ([Wikipedia page](https://en.wikipedia.org/wiki/Recurrent_neural_network))\n* text embedding ([Wikipedia page](https://en.wikipedia.org/wiki/Word_embedding))\n\n### Prerequisites\n\nWe assume that you have already [installed CNTK](https://docs.microsoft.com/en-us/cognitive-toolkit/Setup-CNTK-on-your-machine).\nThis tutorial requires CNTK V2. We strongly recommend to run this tutorial on a machine with\na capable CUDA-compatible GPU. Deep learning without GPUs is not fun."
    },
    {
      "metadata": {},
      "cell_type": "markdown",
      "source": "#### Downloading the data\n\nIn this tutorial we are going to use a (lightly preprocessed) version of the ATIS dataset. You can download the data automatically by running the cells below or by executing the manual instructions.\n\n#### Fallback manual instructions\nDownload the ATIS [training](https://github.com/Microsoft/CNTK/blob/v2.0/Tutorials/SLUHandsOn/atis.train.ctf) \nand [test](https://github.com/Microsoft/CNTK/blob/v2.0/Tutorials/SLUHandsOn/atis.test.ctf) \nfiles and put them at the same folder as this notebook. If you want to see how the model is \npredicting on new sentences you will also need the vocabulary files for \n[queries](https://github.com/Microsoft/CNTK/blob/v2.0/Examples/LanguageUnderstanding/ATIS/BrainScript/query.wl) and\n[slots](https://github.com/Microsoft/CNTK/blob/v2.0/Examples/LanguageUnderstanding/ATIS/BrainScript/slots.wl)"
    },
    {
      "metadata": {
        "trusted": true
      },
      "cell_type": "code",
      "source": "from __future__ import print_function # Use a function definition from future version (say 3.x from 2.7 interpreter)\nimport requests\nimport os\n\ndef download(url, filename):\n    \"\"\" utility function to download a file \"\"\"\n    response = requests.get(url, stream=True)\n    with open(filename, \"wb\") as handle:\n        for data in response.iter_content():\n            handle.write(data)\n\nlocations = ['Tutorials/SLUHandsOn', 'Examples/LanguageUnderstanding/ATIS/BrainScript']\n\ndata = {\n  'train': { 'file': 'atis.train.ctf', 'location': 0 },\n  'test': { 'file': 'atis.test.ctf', 'location': 0 },\n  'query': { 'file': 'query.wl', 'location': 1 },\n  'slots': { 'file': 'slots.wl', 'location': 1 }\n}\n\nfor item in data.values():\n    location = locations[item['location']]\n    path = os.path.join('..', location, item['file'])\n    if os.path.exists(path):\n        print(\"Reusing locally cached:\", item['file'])\n        # Update path\n        item['file'] = path\n    elif os.path.exists(item['file']):\n        print(\"Reusing locally cached:\", item['file'])\n    else:\n        print(\"Starting download:\", item['file'])\n        url = \"https://github.com/Microsoft/CNTK/blob/v2.0/%s/%s?raw=true\"%(location, item['file'])\n        download(url, item['file'])\n        print(\"Download completed\")\n",
      "execution_count": 1,
      "outputs": [
        {
          "output_type": "stream",
          "text": "Starting download: atis.train.ctf\nDownload completed\nStarting download: slots.wl\nDownload completed\nStarting download: query.wl\nDownload completed\nStarting download: atis.test.ctf\nDownload completed\n",
          "name": "stdout"
        }
      ]
    },
    {
      "metadata": {},
      "cell_type": "markdown",
      "source": "#### Importing CNTK and other useful libraries\n\nCNTK's Python module contains several submodules like `io`, `learner`, and `layers`. We also use NumPy in some cases since the results returned by CNTK work like NumPy arrays."
    },
    {
      "metadata": {
        "trusted": true
      },
      "cell_type": "code",
      "source": "import math\nimport numpy as np\n\nimport cntk as C",
      "execution_count": 2,
      "outputs": []
    },
    {
      "metadata": {},
      "cell_type": "markdown",
      "source": "In the block below, we check if we are running this notebook in the CNTK internal test machines by looking for environment variables defined there. We then select the right target device (GPU vs CPU) to test this notebook. In other cases, we use CNTK's default policy to use the best available device (GPU, if available, else CPU)."
    },
    {
      "metadata": {
        "trusted": true
      },
      "cell_type": "code",
      "source": "# Select the right target device when this notebook is being tested:\nif 'TEST_DEVICE' in os.environ:\n    if os.environ['TEST_DEVICE'] == 'cpu':\n        C.device.try_set_default_device(C.device.cpu())\n    else:\n        C.device.try_set_default_device(C.device.gpu(0))",
      "execution_count": 3,
      "outputs": []
    },
    {
      "metadata": {},
      "cell_type": "markdown",
      "source": "## Task and Model Structure\n\nThe task we want to approach in this tutorial is slot tagging.\nWe use the [ATIS corpus](https://catalog.ldc.upenn.edu/LDC95S26).\nATIS contains human-computer queries from the domain of Air Travel Information Services,\nand our task will be to annotate (tag) each word of a query whether it belongs to a\nspecific item of information (slot), and which one.\n\nThe data in your working folder has already been converted into the \"CNTK Text Format.\"\nLet us look at an example from the test-set file `atis.test.ctf`:\n\n    19  |S0 178:1 |# BOS      |S1 14:1 |# flight  |S2 128:1 |# O\n    19  |S0 770:1 |# show                         |S2 128:1 |# O\n    19  |S0 429:1 |# flights                      |S2 128:1 |# O\n    19  |S0 444:1 |# from                         |S2 128:1 |# O\n    19  |S0 272:1 |# burbank                      |S2 48:1  |# B-fromloc.city_name\n    19  |S0 851:1 |# to                           |S2 128:1 |# O\n    19  |S0 789:1 |# st.                          |S2 78:1  |# B-toloc.city_name\n    19  |S0 564:1 |# louis                        |S2 125:1 |# I-toloc.city_name\n    19  |S0 654:1 |# on                           |S2 128:1 |# O\n    19  |S0 601:1 |# monday                       |S2 26:1  |# B-depart_date.day_name\n    19  |S0 179:1 |# EOS                          |S2 128:1 |# O\n\nThis file has 7 columns:\n\n* a sequence id (19). There are 11 entries with this sequence id. This means that sequence 19 consists\nof 11 tokens;\n* column `S0`, which contains numeric word indices; the input data is encoded in one-hot vectors.  There are 943 words in the vocabulary, so each word is a 943 element vector of all 0 with a 1 at a vector index chosen to represent that word.  For example the word \"from\" is represented with a 1 at index 444 and zero everywhere else in the vector. The word \"monday\" is represented with a 1 at index 601 and zero everywhere else in the vector.\n* a comment column denoted by `#`, to allow a human reader to know what the numeric word index stands for;\nComment columns are ignored by the system. `BOS` and `EOS` are special words\nto denote beginning and end of sentence, respectively;\n* column `S1` is an intent label, which we will only use in the last part of the tutorial;\n* another comment column that shows the human-readable label of the numeric intent index;\n* column `S2` is the slot label, represented as a numeric index; and\n* another comment column that shows the human-readable label of the numeric label index.\n\nThe task of the neural network is to look at the query (column `S0`) and predict the\nslot label (column `S2`).\nAs you can see, each word in the input gets assigned either an empty label `O`\nor a slot label that begins with `B-` for the first word, and with `I-` for any\nadditional consecutive word that belongs to the same slot.\n\nThe model we will use is a recurrent model consisting of an embedding layer,\na recurrent LSTM cell, and a dense layer to compute the posterior probabilities:\n\n\n    slot label   \"O\"        \"O\"        \"O\"        \"O\"  \"B-fromloc.city_name\"\n                  ^          ^          ^          ^          ^\n                  |          |          |          |          |\n              +-------+  +-------+  +-------+  +-------+  +-------+\n              | Dense |  | Dense |  | Dense |  | Dense |  | Dense |  ...\n              +-------+  +-------+  +-------+  +-------+  +-------+\n                  ^          ^          ^          ^          ^\n                  |          |          |          |          |\n              +------+   +------+   +------+   +------+   +------+   \n         0 -->| LSTM |-->| LSTM |-->| LSTM |-->| LSTM |-->| LSTM |-->...\n              +------+   +------+   +------+   +------+   +------+   \n                  ^          ^          ^          ^          ^\n                  |          |          |          |          |\n              +-------+  +-------+  +-------+  +-------+  +-------+\n              | Embed |  | Embed |  | Embed |  | Embed |  | Embed |  ...\n              +-------+  +-------+  +-------+  +-------+  +-------+\n                  ^          ^          ^          ^          ^\n                  |          |          |          |          |\n    w      ------>+--------->+--------->+--------->+--------->+------... \n                 BOS      \"show\"    \"flights\"    \"from\"   \"burbank\"\n\nOr, as a CNTK network description. Please have a quick look and match it with the description above:\n(descriptions of these functions can be found at: [the layers reference](http://cntk.ai/pythondocs/layerref.html))\n"
    },
    {
      "metadata": {
        "trusted": true
      },
      "cell_type": "code",
      "source": "# number of words in vocab, slot labels, and intent labels\nvocab_size = 943 ; num_labels = 129 ; num_intents = 26    \n\n# model dimensions\ninput_dim  = vocab_size\nlabel_dim  = num_labels\nemb_dim    = 150\nhidden_dim = 300\n\n# Create the containers for input feature (x) and the label (y)\nx = C.sequence.input_variable(vocab_size)\ny = C.sequence.input_variable(num_labels)\n\ndef create_model():\n    with C.layers.default_options(initial_state=0.1):\n        return C.layers.Sequential([\n            C.layers.Embedding(emb_dim, name='embed'),\n            C.layers.Recurrence(C.layers.LSTM(hidden_dim), go_backwards=False),\n            C.layers.Dense(num_labels, name='classify')\n        ])",
      "execution_count": 4,
      "outputs": []
    },
    {
      "metadata": {},
      "cell_type": "markdown",
      "source": "Now we are ready to create a model and inspect it. \n\nThe model attributes are fully accessible from Python. The first layer named `embed` is an Embedding layer. Here we use the CNTK default, which is linear embedding. It is a simple matrix with dimension (input word encoding x output projected dimension). You can access its parameter `E` (where the embeddings are stored) like any other attribute of a Python object. Its shape contains a `-1` which indicates that this parameter (with input dimension) is not fully specified yet, while the output dimension is set to `emb_dim` ( = 150 in this tutorial). \n\nAdditionally we also inspect the value of the bias vector in the `Dense` layer named `classify`. The `Dense` layer is a fundamental compositional unit of a Multi-Layer Perceptron (as introduced in CNTK 103C tutorial). The `Dense` layer has both `weight` and `bias` parameters, one each per `Dense` layer. Bias terms are by default initialized to 0 (but there is a way to change that if you need). As you create the model, one should name the layer component and then access the parameters as shown here. \n\n**Suggested task**: What should be the expected dimension of the `weight` matrix from the layer named `classify`? Try printing the weight matrix of the `classify` layer? Does it match with your expected size?"
    },
    {
      "metadata": {
        "trusted": true
      },
      "cell_type": "code",
      "source": "# peek\nz = create_model()\nprint(z.embed.E.shape)\nprint(z.classify.b.value)",
      "execution_count": 5,
      "outputs": [
        {
          "output_type": "stream",
          "text": "(-1, 150)\n[0. 0. 0. 0. 0. 0. 0. 0. 0. 0. 0. 0. 0. 0. 0. 0. 0. 0. 0. 0. 0. 0. 0. 0.\n 0. 0. 0. 0. 0. 0. 0. 0. 0. 0. 0. 0. 0. 0. 0. 0. 0. 0. 0. 0. 0. 0. 0. 0.\n 0. 0. 0. 0. 0. 0. 0. 0. 0. 0. 0. 0. 0. 0. 0. 0. 0. 0. 0. 0. 0. 0. 0. 0.\n 0. 0. 0. 0. 0. 0. 0. 0. 0. 0. 0. 0. 0. 0. 0. 0. 0. 0. 0. 0. 0. 0. 0. 0.\n 0. 0. 0. 0. 0. 0. 0. 0. 0. 0. 0. 0. 0. 0. 0. 0. 0. 0. 0. 0. 0. 0. 0. 0.\n 0. 0. 0. 0. 0. 0. 0. 0. 0.]\n",
          "name": "stdout"
        }
      ]
    },
    {
      "metadata": {},
      "cell_type": "markdown",
      "source": "In our case we have input as one-hot encoded vector of length 943 and the output dimension `emb_dim` is set to 150. In the code below we pass the input variable `x` to our model `z`. This binds the model with input data of known shape. In this case, the input shape will be the size of the input vocabulary. With this modification, the parameter returned by the embed layer is completely specified (943, 150). **Note**: You can initialize the Embedding matrix with pre-computed vectors using [Word2Vec](https://en.wikipedia.org/wiki/Word2vec) or [GloVe](https://en.wikipedia.org/wiki/GloVe_(machine_learning))."
    },
    {
      "metadata": {
        "trusted": true
      },
      "cell_type": "code",
      "source": "# Pass an input and check the dimension\nz = create_model()\nprint(z(x).embed.E.shape)",
      "execution_count": 6,
      "outputs": [
        {
          "output_type": "stream",
          "text": "(943, 150)\n",
          "name": "stdout"
        }
      ]
    },
    {
      "metadata": {},
      "cell_type": "markdown",
      "source": "## CNTK Configuration\n\nTo train and test a model in CNTK, we need to create a model and specify how to read data and perform training and testing. \n\nIn order to train we need to specify:\n\n* how to read the data \n* the model function, its inputs, and outputs\n* hyper-parameters for the learner such as the learning rate\n\n[comment]: <> (For testing ...)\n\n### A Brief Look at Data and Data Reading\n\nWe already looked at the data.\nBut how do you generate this format?\nFor reading text, this tutorial uses the `CNTKTextFormatReader`. It expects the input data to be\nin a specific format, as described [here](https://docs.microsoft.com/en-us/cognitive-toolkit/Brainscript-CNTKTextFormat-Reader).\n\nFor this tutorial, we created the corpora by two steps:\n* convert the raw data into a plain text file that contains of TAB-separated columns of space-separated text. For example:\n\n  ```\n  BOS show flights from burbank to st. louis on monday EOS (TAB) flight (TAB) O O O O B-fromloc.city_name O B-toloc.city_name I-toloc.city_name O B-depart_date.day_name O\n  ```\n\n  This is meant to be compatible with the output of the `paste` command.\n* convert it to CNTK Text Format (CTF) with the following command:\n\n  ```\n  python [CNTK root]/Scripts/txt2ctf.py --map query.wl intent.wl slots.wl --annotated True --input atis.test.txt --output atis.test.ctf\n  ```\n  where the three `.wl` files give the vocabulary as plain text files, one word per line.\n\nIn these CTF files, our columns are labeled `S0`, `S1`, and `S2`.\nThese are connected to the actual network inputs by the corresponding lines in the reader definition:"
    },
    {
      "metadata": {
        "trusted": true
      },
      "cell_type": "code",
      "source": "def create_reader(path, is_training):\n    return C.io.MinibatchSource(C.io.CTFDeserializer(path, C.io.StreamDefs(\n         query         = C.io.StreamDef(field='S0', shape=vocab_size,  is_sparse=True),\n         intent_unused = C.io.StreamDef(field='S1', shape=num_intents, is_sparse=True),  \n         slot_labels   = C.io.StreamDef(field='S2', shape=num_labels,  is_sparse=True)\n     )), randomize=is_training, max_sweeps = C.io.INFINITELY_REPEAT if is_training else 1)",
      "execution_count": 7,
      "outputs": []
    },
    {
      "metadata": {
        "trusted": true
      },
      "cell_type": "code",
      "source": "# peek\nreader = create_reader(data['train']['file'], is_training=True)\nreader.streams.keys()",
      "execution_count": 8,
      "outputs": [
        {
          "output_type": "execute_result",
          "execution_count": 8,
          "data": {
            "text/plain": "dict_keys(['intent_unused', 'slot_labels', 'query'])"
          },
          "metadata": {}
        }
      ]
    },
    {
      "metadata": {},
      "cell_type": "markdown",
      "source": "### Trainer\n\nWe also must define the training criterion (loss function), and also an error metric to track. In most tutorials, we know the input dimensions and the corresponding labels. We directly create the loss and the error functions. In this tutorial we will do the same. However, we take a brief detour and learn about placeholders. This concept would be useful for Task 3. \n\n**Learning note**: Introduction to `placeholder`: Remember that the code we have been writing is not actually executing any heavy computation it is just specifying the function we want to compute on data during training/testing. And in the same way that it is convenient to have names for arguments when you write a regular function in a programming language, it is convenient to have placeholders that refer to arguments (or local computations that need to be reused). Eventually, some other code will replace these placeholders with other known quantities in the same way that in a programming language the function will be called with concrete values bound to its arguments. \n\nSpecifically, the input variables you have created above `x = C.sequence.input_variable(vocab_size)` holds data pre-defined by `vocab_size`. In the case where such instantiations are challenging or not possible, using `placeholder` is a logical choice. Having the `placeholder` only allows you to defer the specification of the argument at a later time when you may have the data.\n\nHere is an example below that illustrates the use of `placeholder`."
    },
    {
      "metadata": {
        "trusted": true
      },
      "cell_type": "code",
      "source": "def create_criterion_function(model):\n    labels = C.placeholder(name='labels')\n    ce   = C.cross_entropy_with_softmax(model, labels)\n    errs = C.classification_error      (model, labels)\n    return C.combine ([ce, errs]) # (features, labels) -> (loss, metric)\n\ncriterion = create_criterion_function(create_model())\ncriterion.replace_placeholders({criterion.placeholders[0]: C.sequence.input_variable(num_labels)})",
      "execution_count": 9,
      "outputs": [
        {
          "output_type": "execute_result",
          "execution_count": 9,
          "data": {
            "text/plain": "Composite(Combine): Input('Input2300', [#, *], [129]), Placeholder('labels', [???], [???]) -> Output('Block2270_Output_0', [#, *], [???]), Output('Block2290_Output_0', [#, *], [???])"
          },
          "metadata": {}
        }
      ]
    },
    {
      "metadata": {},
      "cell_type": "markdown",
      "source": "While the cell above works well when one has input parameters defined at network creation, it compromises readability. Hence we prefer creating functions as shown below"
    },
    {
      "metadata": {
        "trusted": true
      },
      "cell_type": "code",
      "source": "def create_criterion_function_preferred(model, labels):\n    ce   = C.cross_entropy_with_softmax(model, labels)\n    errs = C.classification_error      (model, labels)\n    return ce, errs # (model, labels) -> (loss, error metric)",
      "execution_count": 10,
      "outputs": []
    },
    {
      "metadata": {
        "trusted": true
      },
      "cell_type": "code",
      "source": "def train(reader, model_func, max_epochs=10):\n    \n    # Instantiate the model function; x is the input (feature) variable \n    model = model_func(x)\n    \n    # Instantiate the loss and error function\n    loss, label_error = create_criterion_function_preferred(model, y)\n\n    # training config\n    epoch_size = 18000        # 18000 samples is half the dataset size \n    minibatch_size = 70\n    \n    # LR schedule over epochs \n    # In CNTK, an epoch is how often we get out of the minibatch loop to\n    # do other stuff (e.g. checkpointing, adjust learning rate, etc.)\n    # (we don't run this many epochs, but if we did, these are good values)\n    lr_per_sample = [0.003]*4+[0.0015]*24+[0.0003]\n    lr_per_minibatch = [lr * minibatch_size for lr in lr_per_sample]\n    lr_schedule = C.learning_rate_schedule(lr_per_minibatch, C.UnitType.minibatch, epoch_size)\n    \n    # Momentum schedule\n    momentum_as_time_constant = C.momentum_as_time_constant_schedule(700)\n    \n    # We use a the Adam optimizer which is known to work well on this dataset\n    # Feel free to try other optimizers from \n    # https://www.cntk.ai/pythondocs/cntk.learner.html#module-cntk.learner\n    learner = C.adam(parameters=model.parameters,\n                     lr=lr_schedule,\n                     momentum=momentum_as_time_constant,\n                     gradient_clipping_threshold_per_sample=15, \n                     gradient_clipping_with_truncation=True)\n\n    # Setup the progress updater\n    progress_printer = C.logging.ProgressPrinter(tag='Training', num_epochs=max_epochs)\n    \n    # Uncomment below for more detailed logging\n    #progress_printer = ProgressPrinter(freq=100, first=10, tag='Training', num_epochs=max_epochs) \n\n    # Instantiate the trainer\n    trainer = C.Trainer(model, (loss, label_error), learner, progress_printer)\n\n    # process minibatches and perform model training\n    C.logging.log_number_of_parameters(model)\n\n    t = 0\n    for epoch in range(max_epochs):         # loop over epochs\n        epoch_end = (epoch+1) * epoch_size\n        while t < epoch_end:                # loop over minibatches on the epoch\n            data = reader.next_minibatch(minibatch_size, input_map={  # fetch minibatch\n                x: reader.streams.query,\n                y: reader.streams.slot_labels\n            })\n            trainer.train_minibatch(data)               # update model with it\n            t += data[y].num_samples                    # samples so far\n        trainer.summarize_training_progress()",
      "execution_count": 11,
      "outputs": []
    },
    {
      "metadata": {},
      "cell_type": "markdown",
      "source": "### Running it\n\nYou can find the complete recipe below."
    },
    {
      "metadata": {
        "scrolled": false,
        "trusted": true
      },
      "cell_type": "code",
      "source": "def do_train():\n    global z\n    z = create_model()\n    reader = create_reader(data['train']['file'], is_training=True)\n    train(reader, z)\ndo_train()",
      "execution_count": 12,
      "outputs": [
        {
          "output_type": "stream",
          "text": "Training 721479 parameters in 6 parameter tensors.\nLearning rate per minibatch: 0.21\nFinished Epoch[1 of 10]: [Training] loss = 0.692392 * 18010, metric = 14.14% * 18010 12.116s (1486.5 samples/s);\nFinished Epoch[2 of 10]: [Training] loss = 0.196757 * 18051, metric = 4.43% * 18051 12.790s (1411.3 samples/s);\nFinished Epoch[3 of 10]: [Training] loss = 0.127802 * 17941, metric = 2.88% * 17941 12.581s (1426.0 samples/s);\nFinished Epoch[4 of 10]: [Training] loss = 0.089395 * 18059, metric = 2.14% * 18059 9.858s (1831.9 samples/s);\nLearning rate per minibatch: 0.105\nFinished Epoch[5 of 10]: [Training] loss = 0.057005 * 17957, metric = 1.33% * 17957 11.274s (1592.8 samples/s);\nFinished Epoch[6 of 10]: [Training] loss = 0.051911 * 18021, metric = 1.22% * 18021 11.044s (1631.7 samples/s);\nFinished Epoch[7 of 10]: [Training] loss = 0.047058 * 17980, metric = 1.17% * 17980 10.159s (1769.9 samples/s);\nFinished Epoch[8 of 10]: [Training] loss = 0.040754 * 18025, metric = 1.07% * 18025 10.097s (1785.2 samples/s);\nFinished Epoch[9 of 10]: [Training] loss = 0.024979 * 17956, metric = 0.69% * 17956 11.028s (1628.2 samples/s);\nFinished Epoch[10 of 10]: [Training] loss = 0.029398 * 18039, metric = 0.81% * 18039 9.629s (1873.4 samples/s);\n",
          "name": "stdout"
        }
      ]
    },
    {
      "metadata": {},
      "cell_type": "markdown",
      "source": "This shows how learning proceeds over epochs (passes through the data).\nFor example, after four epochs, the loss, which is the cross-entropy criterion, has reached 0.11 as measured on the ~18000 samples of this epoch,\nand that the error rate is 2.6% on those same 18000 training samples.\n\nThe epoch size is the number of samples--counted as *word tokens*, not sentences--to\nprocess between model checkpoints.\n\nOnce the training has completed (a little less than 2 minutes on a Titan-X or a Surface Book),\nyou will see an output like this\n```\nFinished Epoch [10]: [Training] loss = 0.033263 * 18039, metric = 0.9% * 18039\n```\nwhich is the loss (cross entropy) and the metric (classification error) averaged over the final epoch.\n\nOn a CPU-only machine, it can be 4 or more times slower. You can try setting\n```python\nemb_dim    = 50 \nhidden_dim = 100\n```\nto reduce the time it takes to run on a CPU, but the model will not fit as well as when the \nhidden and embedding dimension are larger. "
    },
    {
      "metadata": {},
      "cell_type": "markdown",
      "source": "### Evaluating the model\n\nLike the train() function, we also define a function to measure accuracy on a test set by computing the error over multiple minibatches of test data. For evaluating on a small sample read from a file, you can set a minibatch size reflecting the sample size and run the test_minibatch on that instance of data. To see how to evaluate a single sequence, we provide an instance later in the tutorial. "
    },
    {
      "metadata": {
        "trusted": true
      },
      "cell_type": "code",
      "source": "def evaluate(reader, model_func):\n    \n    # Instantiate the model function; x is the input (feature) variable \n    model = model_func(x)\n    \n    # Create the loss and error functions\n    loss, label_error = create_criterion_function_preferred(model, y)\n\n    # process minibatches and perform evaluation\n    progress_printer = C.logging.ProgressPrinter(tag='Evaluation', num_epochs=0)\n\n    while True:\n        minibatch_size = 500\n        data = reader.next_minibatch(minibatch_size, input_map={  # fetch minibatch\n            x: reader.streams.query,\n            y: reader.streams.slot_labels\n        })\n        if not data:                                 # until we hit the end\n            break\n\n        evaluator = C.eval.Evaluator(loss, progress_printer)\n        evaluator.test_minibatch(data)\n     \n    evaluator.summarize_test_progress()",
      "execution_count": 13,
      "outputs": []
    },
    {
      "metadata": {},
      "cell_type": "markdown",
      "source": "Now we can measure the model accuracy by going through all the examples in the test set and using the ``test_minibatch`` method of the trainer created inside the evaluate function defined above. At the moment (when this tutorial was written) the Trainer constructor requires a learner (even if it is only used to perform ``test_minibatch``) so we have to specify a dummy learner. In the future it will be allowed to construct a Trainer without specifying a learner as long as the trainer only calls ``test_minibatch``"
    },
    {
      "metadata": {
        "trusted": true
      },
      "cell_type": "code",
      "source": "def do_test():\n    reader = create_reader(data['test']['file'], is_training=False)\n    evaluate(reader, z)\ndo_test()\nz.classify.b.value",
      "execution_count": 14,
      "outputs": [
        {
          "output_type": "stream",
          "text": "Finished Evaluation [1]: Minibatch[1-23]: metric = 0.34% * 10984;\n",
          "name": "stdout"
        },
        {
          "output_type": "execute_result",
          "execution_count": 14,
          "data": {
            "text/plain": "array([-3.44756097e-02, -9.48742926e-02, -4.88143601e-02, -5.89377098e-02,\n       -1.66121200e-02, -4.74706963e-02, -4.71220650e-02, -9.88641307e-02,\n       -2.75263712e-02, -5.82716130e-02, -3.17683741e-02, -3.77656259e-02,\n       -5.17959744e-02, -5.13010696e-02, -8.52241889e-02, -7.09928051e-02,\n       -1.22144140e-01, -4.68127318e-02,  4.03327495e-02, -1.32786557e-01,\n       -7.63492659e-02, -5.49318455e-02,  5.47909038e-03, -7.66143017e-03,\n       -4.85182293e-02,  1.35481404e-02, -3.55821103e-02, -3.82119953e-03,\n       -1.73545275e-02, -3.66954207e-02, -3.91245857e-02, -3.24573815e-02,\n       -7.47283399e-02, -1.02308849e-02, -5.27024157e-02,  9.11082923e-02,\n        6.01251870e-02, -2.08287835e-02, -1.44987218e-02, -4.56239879e-02,\n       -1.41239911e-01, -6.53960556e-02,  1.86713673e-02, -4.64309864e-02,\n        1.97561365e-02, -8.04510191e-02,  3.41979191e-02,  2.72030365e-02,\n        2.97282673e-02, -4.36839908e-02, -6.07293919e-02, -8.45976621e-02,\n        2.59138849e-02, -6.07877225e-02,  4.82544228e-02,  1.19269500e-02,\n       -5.43233939e-02, -5.74248545e-02, -5.03415279e-02, -4.75362577e-02,\n       -1.24109052e-02, -6.74355775e-02,  1.81026626e-02, -2.64671147e-02,\n       -3.92723270e-02, -4.94098216e-02, -1.08448692e-01, -6.77800328e-02,\n       -5.91493733e-02, -1.15854375e-01, -8.16888884e-02, -5.41500933e-02,\n       -4.65299599e-02, -2.93784346e-02, -6.61164969e-02,  7.96463049e-04,\n       -5.50192688e-03,  2.57835649e-02, -5.99264912e-03, -4.49002646e-02,\n       -3.76229472e-02,  3.33864664e-05, -1.63201485e-02, -1.21627510e-01,\n       -3.10363099e-02, -8.13061297e-02, -7.82171935e-02, -1.07064201e-02,\n       -6.88804314e-02, -8.97430032e-02, -2.68881507e-02, -1.10482648e-02,\n       -9.09443200e-02, -1.11157157e-01, -4.34679538e-02, -1.03078388e-01,\n        6.60965964e-02, -3.63457054e-02, -7.38422796e-02, -9.15804803e-02,\n        2.02473681e-02, -8.69891271e-02, -7.64997080e-02, -8.81606936e-02,\n       -3.78384963e-02,  3.99602428e-02, -1.18180275e-01, -6.31501973e-02,\n       -7.66061321e-02, -9.24040377e-03, -5.86490408e-02, -4.98860702e-02,\n       -5.57233160e-03, -3.92621346e-02,  2.18868665e-02, -6.98483959e-02,\n        1.22968794e-03, -4.48514335e-02, -2.07176153e-02, -1.39159217e-01,\n       -1.19103104e-01, -4.93447334e-02, -6.27823174e-02, -7.37208501e-03,\n        2.59530428e-03, -2.87322327e-02, -4.19092029e-02, -7.76861683e-02,\n        1.08806334e-01], dtype=float32)"
          },
          "metadata": {}
        }
      ]
    },
    {
      "metadata": {},
      "cell_type": "markdown",
      "source": "The following block of code illustrates how to evaluate a single sequence. Additionally we show how one can pass in the information using NumPy arrays."
    },
    {
      "metadata": {
        "trusted": true
      },
      "cell_type": "code",
      "source": "# load dictionaries\nquery_wl = [line.rstrip('\\n') for line in open(data['query']['file'])]\nslots_wl = [line.rstrip('\\n') for line in open(data['slots']['file'])]\nquery_dict = {query_wl[i]:i for i in range(len(query_wl))}\nslots_dict = {slots_wl[i]:i for i in range(len(slots_wl))}\n\n# let's run a sequence through\nseq = 'BOS flights from new york to seattle EOS'\nw = [query_dict[w] for w in seq.split()] # convert to word indices\nprint(w)\nonehot = np.zeros([len(w),len(query_dict)], np.float32)\nfor t in range(len(w)):\n    onehot[t,w[t]] = 1\n\n#x = C.sequence.input_variable(vocab_size)\npred = z(x).eval({x:[onehot]})[0]\nprint(pred.shape)\nbest = np.argmax(pred,axis=1)\nprint(best)\nlist(zip(seq.split(),[slots_wl[s] for s in best]))",
      "execution_count": 15,
      "outputs": [
        {
          "output_type": "stream",
          "text": "[178, 429, 444, 619, 937, 851, 752, 179]\n(8, 129)\n[128 128 128  48 110 128  78 128]\n",
          "name": "stdout"
        },
        {
          "output_type": "execute_result",
          "execution_count": 15,
          "data": {
            "text/plain": "[('BOS', 'O'),\n ('flights', 'O'),\n ('from', 'O'),\n ('new', 'B-fromloc.city_name'),\n ('york', 'I-fromloc.city_name'),\n ('to', 'O'),\n ('seattle', 'B-toloc.city_name'),\n ('EOS', 'O')]"
          },
          "metadata": {}
        }
      ]
    },
    {
      "metadata": {},
      "cell_type": "markdown",
      "source": "## Modifying the Model\n\nIn the following, you will be given tasks to practice modifying CNTK configurations.\nThe solutions are given at the end of this document... but please try without!\n\n### A Word About [`Sequential()`](https://www.cntk.ai/pythondocs/layerref.html#sequential)\n\nBefore jumping to the tasks, let's have a look again at the model we just ran.\nThe model is described in what we call *function-composition style*.\n```python\n        Sequential([\n            Embedding(emb_dim),\n            Recurrence(LSTM(hidden_dim), go_backwards=False),\n            Dense(num_labels)\n        ])\n```\nYou may be familiar with the \"sequential\" notation from other neural-network toolkits.\nIf not, [`Sequential()`](https://www.cntk.ai/pythondocs/layerref.html#sequential) is a powerful operation that,\nin a nutshell, allows to compactly express a very common situation in neural networks\nwhere an input is processed by propagating it through a progression of layers.\n`Sequential()` takes an list of functions as its argument,\nand returns a *new* function that invokes these functions in order,\neach time passing the output of one to the next.\nFor example,\n```python\n\tFGH = Sequential ([F,G,H])\n    y = FGH (x)\n```\nmeans the same as\n```\n    y = H(G(F(x))) \n```\nThis is known as [\"function composition\"](https://en.wikipedia.org/wiki/Function_composition),\nand is especially convenient for expressing neural networks, which often have this form:\n\n         +-------+   +-------+   +-------+\n    x -->|   F   |-->|   G   |-->|   H   |--> y\n         +-------+   +-------+   +-------+\n\nComing back to our model at hand, the `Sequential` expression simply\nsays that our model has this form:\n\n         +-----------+   +----------------+   +------------+\n    x -->| Embedding |-->| Recurrent LSTM |-->| DenseLayer |--> y\n         +-----------+   +----------------+   +------------+"
    },
    {
      "metadata": {},
      "cell_type": "markdown",
      "source": "### Task 1: Add Batch Normalization\n\nWe now want to add new layers to the model, specifically batch normalization.\n\nBatch normalization is a popular technique for speeding up convergence.\nIt is often used for image-processing setups, for example our other [hands-on lab on image\nrecognition](./Hands-On-Labs-Image-Recognition).\nBut could it work for recurrent models, too?\n\n> Note: training with Batch Normalization is currently only supported on GPU.\n\nSo your task will be to insert batch-normalization layers before and after the recurrent LSTM layer.\nIf you have completed the [hands-on labs on image processing](https://github.com/Microsoft/CNTK/blob/v2.0/Tutorials/CNTK_201B_CIFAR-10_ImageHandsOn.ipynb),\nyou may remember that the [batch-normalization layer](https://www.cntk.ai/pythondocs/layerref.html#batchnormalization-layernormalization-stabilizer) has this form:\n```\n    BatchNormalization()\n```\nSo please go ahead and modify the configuration and see what happens.\n\nIf everything went right, you will notice improved convergence speed (`loss` and `metric`)\ncompared to the previous configuration."
    },
    {
      "metadata": {
        "trusted": true
      },
      "cell_type": "code",
      "source": "# Your task: Add batch normalization\ndef create_model():\n    with C.layers.default_options(initial_state=0.1):\n        return C.layers.Sequential([\n            C.layers.Embedding(emb_dim),\n            C.layers.Recurrence(C.layers.LSTM(hidden_dim), go_backwards=False),\n            C.layers.Dense(num_labels)\n        ])\n\n# Enable these when done:\nz = create_model()\ndo_train()\ndo_test()",
      "execution_count": 18,
      "outputs": [
        {
          "output_type": "stream",
          "text": "Training 721479 parameters in 6 parameter tensors.\nLearning rate per minibatch: 0.21\nFinished Epoch[1 of 10]: [Training] loss = 0.683917 * 18010, metric = 13.86% * 18010 9.510s (1893.8 samples/s);\nFinished Epoch[2 of 10]: [Training] loss = 0.195469 * 18051, metric = 4.44% * 18051 9.504s (1899.3 samples/s);\nFinished Epoch[3 of 10]: [Training] loss = 0.128745 * 17941, metric = 2.78% * 17941 10.218s (1755.8 samples/s);\nFinished Epoch[4 of 10]: [Training] loss = 0.093684 * 18059, metric = 2.19% * 18059 10.869s (1661.5 samples/s);\nLearning rate per minibatch: 0.105\nFinished Epoch[5 of 10]: [Training] loss = 0.057643 * 17957, metric = 1.35% * 17957 10.864s (1652.9 samples/s);\nFinished Epoch[6 of 10]: [Training] loss = 0.054528 * 18021, metric = 1.25% * 18021 11.624s (1550.3 samples/s);\nFinished Epoch[7 of 10]: [Training] loss = 0.048111 * 17980, metric = 1.20% * 17980 9.738s (1846.4 samples/s);\nFinished Epoch[8 of 10]: [Training] loss = 0.041791 * 18025, metric = 1.04% * 18025 10.396s (1733.8 samples/s);\nFinished Epoch[9 of 10]: [Training] loss = 0.025651 * 17956, metric = 0.74% * 17956 11.308s (1587.9 samples/s);\nFinished Epoch[10 of 10]: [Training] loss = 0.029308 * 18039, metric = 0.83% * 18039 10.724s (1682.1 samples/s);\nFinished Evaluation [1]: Minibatch[1-23]: metric = 0.37% * 10984;\n",
          "name": "stdout"
        }
      ]
    },
    {
      "metadata": {},
      "cell_type": "markdown",
      "source": "### Task 2: Add a Lookahead \n\nOur recurrent model suffers from a structural deficit:\nSince the recurrence runs from left to right, the decision for a slot label\nhas no information about upcoming words. The model is a bit lopsided.\nYour task will be to modify the model such that\nthe input to the recurrence consists not only of the current word, but also of the next one\n(lookahead).\n\nYour solution should be in function-composition style.\nHence, you will need to write a Python function that does the following:\n\n* takes no input arguments\n* creates a placeholder (sequence) variable\n* computes the \"next value\" in this sequence using the `sequence.future_value()` operation and\n* concatenates the current and the next value into a vector of twice the embedding dimension using `splice()`\n\nand then insert this function into `Sequential()`'s list right after the embedding layer."
    },
    {
      "metadata": {
        "trusted": true
      },
      "cell_type": "code",
      "source": "# Your task: Add lookahead\ndef create_model():\n    with C.layers.default_options(initial_state=0.1):\n        return C.layers.Sequential([\n            C.layers.Embedding(emb_dim),\n            C.layers.Recurrence(C.layers.LSTM(hidden_dim), go_backwards=False),\n            C.layers.Dense(num_labels)\n        ])\n    \n# Enable these when done:\nz = create_model()\ndo_train()\ndo_test()",
      "execution_count": 19,
      "outputs": [
        {
          "output_type": "stream",
          "text": "Training 721479 parameters in 6 parameter tensors.\nLearning rate per minibatch: 0.21\nFinished Epoch[1 of 10]: [Training] loss = 0.803032 * 18010, metric = 15.88% * 18010 24.261s (742.3 samples/s);\nFinished Epoch[2 of 10]: [Training] loss = 0.236665 * 18051, metric = 5.31% * 18051 26.285s (686.7 samples/s);\nFinished Epoch[3 of 10]: [Training] loss = 0.158289 * 17941, metric = 3.70% * 17941 38.955s (460.6 samples/s);\nFinished Epoch[4 of 10]: [Training] loss = 0.110174 * 18059, metric = 2.64% * 18059 30.323s (595.6 samples/s);\nLearning rate per minibatch: 0.105\nFinished Epoch[5 of 10]: [Training] loss = 0.071051 * 17957, metric = 1.74% * 17957 31.652s (567.3 samples/s);\nFinished Epoch[6 of 10]: [Training] loss = 0.065072 * 18021, metric = 1.51% * 18021 29.990s (600.9 samples/s);\nFinished Epoch[7 of 10]: [Training] loss = 0.053745 * 17980, metric = 1.33% * 17980 30.551s (588.5 samples/s);\nFinished Epoch[8 of 10]: [Training] loss = 0.049872 * 18025, metric = 1.20% * 18025 28.652s (629.1 samples/s);\nFinished Epoch[9 of 10]: [Training] loss = 0.031901 * 17956, metric = 0.89% * 17956 30.820s (582.6 samples/s);\nFinished Epoch[10 of 10]: [Training] loss = 0.033463 * 18039, metric = 0.87% * 18039 27.604s (653.5 samples/s);\nFinished Evaluation [1]: Minibatch[1-23]: metric = 0.30% * 10984;\n",
          "name": "stdout"
        }
      ]
    },
    {
      "metadata": {},
      "cell_type": "markdown",
      "source": "### Task 3: Bidirectional Recurrent Model\n\nAha, knowledge of future words help. So instead of a one-word lookahead,\nwhy not look ahead until all the way to the end of the sentence, through a backward recurrence?\nLet us create a bidirectional model!\n\nYour task is to implement a new layer that\nperforms both a forward and a backward recursion over the data, and\nconcatenates the output vectors.\n\nNote, however, that this differs from the previous task in that\nthe bidirectional layer contains learnable model parameters.\nIn function-composition style,\nthe pattern to implement a layer with model parameters is to write a *factory function*\nthat creates a *function object*.\n\nA function object, also known as [*functor*](https://en.wikipedia.org/wiki/Function_object), is an object that is both a function and an object.\nWhich means nothing else that it contains data yet still can be invoked as if it was a function.\n\nFor example, `Dense(outDim)` is a factory function that returns a function object that contains\na weight matrix `W`, a bias `b`, and another function to compute \n`input @ W + b.` (This is using \n[Python 3.5 notation for matrix multiplication](https://docs.python.org/3/whatsnew/3.5.html#whatsnew-pep-465).\nIn Numpy syntax it is `input.dot(W) + b`).\nE.g. saying `Dense(1024)` will create this function object, which can then be used\nlike any other function, also immediately: `Dense(1024)(x)`. \n\nLet's look at an example for further clarity: Let us implement a new layer that combines\na linear layer with a subsequent batch normalization. \nTo allow function composition, the layer needs to be realized as a factory function,\nwhich could look like this:\n\n```python\ndef DenseLayerWithBN(dim):\n    F = Dense(dim)\n    G = BatchNormalization()\n    x = placeholder()\n    apply_x = G(F(x))\n    return apply_x\n```\n\nInvoking this factory function will create `F`, `G`, `x`, and `apply_x`. In this example, `F` and `G` are function objects themselves, and `apply_x` is the function to be applied to the data.\nThus, e.g. calling `DenseLayerWithBN(1024)` will\ncreate an object containing a linear-layer function object called `F`, a batch-normalization function object `G`,\nand `apply_x` which is the function that implements the actual operation of this layer\nusing `F` and `G`. It will then return `apply_x`. To the outside, `apply_x` looks and behaves\nlike a function. Under the hood, however, `apply_x` retains access to its specific instances of `F` and `G`.\n\nNow back to our task at hand. You will now need to create a factory function,\nvery much like the example above.\nYou shall create a factory function\nthat creates two recurrent layer instances (one forward, one backward), and then defines an `apply_x` function\nwhich applies both layer instances to the same `x` and concatenate the two results.\n\nAlright, give it a try! To know how to realize a backward recursion in CNTK,\nplease take a hint from how the forward recursion is done.\nPlease also do the following:\n* remove the one-word lookahead you added in the previous task, which we aim to replace; and\n* make sure each LSTM is using `hidden_dim//2` outputs to keep the total number of model parameters limited."
    },
    {
      "metadata": {
        "trusted": true
      },
      "cell_type": "code",
      "source": "# Your task: Add bidirectional recurrence\ndef create_model():\n    with C.layers.default_options(initial_state=0.1):  \n        return C.layers.Sequential([\n            C.layers.Embedding(emb_dim),\n            C.layers.Recurrence(C.layers.LSTM(hidden_dim), go_backwards=False),\n            C.layers.Dense(num_labels)\n        ])\n\n# Enable these when done:\n#do_train()\n#do_test()",
      "execution_count": 20,
      "outputs": []
    },
    {
      "metadata": {},
      "cell_type": "markdown",
      "source": "Works like a charm! This model achieves 0.32%, better than the lookahead model above.\nThe bidirectional model has 40% less parameters than the lookahead one. However, if you go back and look closely\nyou may find that the lookahead one trained about 30% faster.\nThis is because the lookahead model has both less horizontal dependencies (one instead of two\nrecurrences) and larger matrix products, and can thus achieve higher parallelism."
    },
    {
      "metadata": {},
      "cell_type": "markdown",
      "source": "### Solution 1: Adding Batch Normalization"
    },
    {
      "metadata": {
        "trusted": true
      },
      "cell_type": "code",
      "source": "def create_model():\n    with C.layers.default_options(initial_state=0.1):\n        return C.layers.Sequential([\n            C.layers.Embedding(emb_dim),\n            #C.layers.BatchNormalization(),\n            C.layers.Recurrence(C.layers.LSTM(hidden_dim), go_backwards=False),\n            #C.layers.BatchNormalization(),\n            C.layers.Dense(num_labels)\n        ])\n\ndo_train()\ndo_test()",
      "execution_count": 21,
      "outputs": [
        {
          "output_type": "stream",
          "text": "Training 721479 parameters in 6 parameter tensors.\nLearning rate per minibatch: 0.21\nFinished Epoch[1 of 10]: [Training] loss = 0.788779 * 18010, metric = 15.44% * 18010 24.858s (724.5 samples/s);\nFinished Epoch[2 of 10]: [Training] loss = 0.224621 * 18051, metric = 5.14% * 18051 23.324s (773.9 samples/s);\nFinished Epoch[3 of 10]: [Training] loss = 0.146788 * 17941, metric = 3.34% * 17941 24.133s (743.4 samples/s);\nFinished Epoch[4 of 10]: [Training] loss = 0.100341 * 18059, metric = 2.34% * 18059 23.369s (772.8 samples/s);\nLearning rate per minibatch: 0.105\nFinished Epoch[5 of 10]: [Training] loss = 0.065097 * 17957, metric = 1.58% * 17957 25.488s (704.5 samples/s);\nFinished Epoch[6 of 10]: [Training] loss = 0.059250 * 18021, metric = 1.45% * 18021 26.087s (690.8 samples/s);\nFinished Epoch[7 of 10]: [Training] loss = 0.052901 * 17980, metric = 1.35% * 17980 22.496s (799.3 samples/s);\nFinished Epoch[8 of 10]: [Training] loss = 0.044244 * 18025, metric = 1.12% * 18025 26.256s (686.5 samples/s);\nFinished Epoch[9 of 10]: [Training] loss = 0.031536 * 17956, metric = 0.85% * 17956 23.816s (753.9 samples/s);\nFinished Epoch[10 of 10]: [Training] loss = 0.030098 * 18039, metric = 0.78% * 18039 28.102s (641.9 samples/s);\nFinished Evaluation [1]: Minibatch[1-23]: metric = 0.17% * 10984;\n",
          "name": "stdout"
        }
      ]
    },
    {
      "metadata": {},
      "cell_type": "markdown",
      "source": "### Solution 2: Add a Lookahead"
    },
    {
      "metadata": {
        "scrolled": true,
        "trusted": true
      },
      "cell_type": "code",
      "source": "def OneWordLookahead():\n    x = C.placeholder()\n    apply_x = C.splice(x, C.sequence.future_value(x))\n    return apply_x\n\ndef create_model():\n    with C.layers.default_options(initial_state=0.1):\n        return C.layers.Sequential([\n            C.layers.Embedding(emb_dim),\n            OneWordLookahead(),\n            C.layers.Recurrence(C.layers.LSTM(hidden_dim), go_backwards=False),\n            C.layers.Dense(num_labels)        \n        ])\n\ndo_train()\ndo_test()",
      "execution_count": 22,
      "outputs": [
        {
          "output_type": "stream",
          "text": "Training 901479 parameters in 6 parameter tensors.\nLearning rate per minibatch: 0.21\nFinished Epoch[1 of 10]: [Training] loss = 0.620051 * 18010, metric = 12.55% * 18010 26.932s (668.7 samples/s);\nFinished Epoch[2 of 10]: [Training] loss = 0.169874 * 18051, metric = 3.91% * 18051 27.183s (664.1 samples/s);\nFinished Epoch[3 of 10]: [Training] loss = 0.109912 * 17941, metric = 2.37% * 17941 25.793s (695.6 samples/s);\nFinished Epoch[4 of 10]: [Training] loss = 0.077911 * 18059, metric = 1.77% * 18059 26.788s (674.1 samples/s);\nLearning rate per minibatch: 0.105\nFinished Epoch[5 of 10]: [Training] loss = 0.043471 * 17957, metric = 1.07% * 17957 25.232s (711.7 samples/s);\nFinished Epoch[6 of 10]: [Training] loss = 0.037294 * 18021, metric = 0.83% * 18021 27.007s (667.3 samples/s);\nFinished Epoch[7 of 10]: [Training] loss = 0.036537 * 17980, metric = 0.86% * 17980 25.336s (709.7 samples/s);\nFinished Epoch[8 of 10]: [Training] loss = 0.025901 * 18025, metric = 0.67% * 18025 27.829s (647.7 samples/s);\nFinished Epoch[9 of 10]: [Training] loss = 0.014870 * 17956, metric = 0.38% * 17956 26.270s (683.5 samples/s);\nFinished Epoch[10 of 10]: [Training] loss = 0.015630 * 18039, metric = 0.42% * 18039 26.335s (685.0 samples/s);\nFinished Evaluation [1]: Minibatch[1-23]: metric = 0.35% * 10984;\n",
          "name": "stdout"
        }
      ]
    },
    {
      "metadata": {},
      "cell_type": "markdown",
      "source": "### Solution 3: Bidirectional Recurrent Model"
    },
    {
      "metadata": {
        "trusted": true
      },
      "cell_type": "code",
      "source": "def BiRecurrence(fwd, bwd):\n    F = C.layers.Recurrence(fwd)\n    G = C.layers.Recurrence(bwd, go_backwards=True)\n    x = C.placeholder()\n    apply_x = C.splice(F(x), G(x))\n    return apply_x \n\ndef create_model():\n    with C.layers.default_options(initial_state=0.1):\n        return C.layers.Sequential([\n            C.layers.Embedding(emb_dim),\n            BiRecurrence(C.layers.LSTM(hidden_dim//2), \n                                  C.layers.LSTM(hidden_dim//2)),\n            C.layers.Dense(num_labels)\n        ])\n\ndo_train()\ndo_test()",
      "execution_count": 23,
      "outputs": [
        {
          "output_type": "stream",
          "text": "Training 541479 parameters in 9 parameter tensors.\nLearning rate per minibatch: 0.21\nFinished Epoch[1 of 10]: [Training] loss = 0.703717 * 18010, metric = 13.45% * 18010 22.506s (800.2 samples/s);\nFinished Epoch[2 of 10]: [Training] loss = 0.175063 * 18051, metric = 3.99% * 18051 24.502s (736.7 samples/s);\nFinished Epoch[3 of 10]: [Training] loss = 0.101848 * 17941, metric = 2.21% * 17941 23.234s (772.2 samples/s);\nFinished Epoch[4 of 10]: [Training] loss = 0.064707 * 18059, metric = 1.54% * 18059 23.991s (752.7 samples/s);\nLearning rate per minibatch: 0.105\nFinished Epoch[5 of 10]: [Training] loss = 0.038879 * 17957, metric = 0.92% * 17957 25.608s (701.2 samples/s);\nFinished Epoch[6 of 10]: [Training] loss = 0.037028 * 18021, metric = 0.86% * 18021 24.184s (745.2 samples/s);\nFinished Epoch[7 of 10]: [Training] loss = 0.033304 * 17980, metric = 0.79% * 17980 25.136s (715.3 samples/s);\nFinished Epoch[8 of 10]: [Training] loss = 0.026227 * 18025, metric = 0.65% * 18025 24.425s (738.0 samples/s);\nFinished Epoch[9 of 10]: [Training] loss = 0.014016 * 17956, metric = 0.37% * 17956 24.003s (748.1 samples/s);\nFinished Epoch[10 of 10]: [Training] loss = 0.014832 * 18039, metric = 0.37% * 18039 25.499s (707.4 samples/s);\nFinished Evaluation [1]: Minibatch[1-23]: metric = 0.37% * 10984;\n",
          "name": "stdout"
        }
      ]
    },
    {
      "metadata": {
        "trusted": false
      },
      "cell_type": "code",
      "source": "",
      "execution_count": null,
      "outputs": []
    }
  ],
  "metadata": {
    "anaconda-cloud": {},
    "kernelspec": {
      "name": "python3",
      "display_name": "Python 3",
      "language": "python"
    },
    "language_info": {
      "mimetype": "text/x-python",
      "nbconvert_exporter": "python",
      "name": "python",
      "pygments_lexer": "ipython3",
      "version": "3.5.4",
      "file_extension": ".py",
      "codemirror_mode": {
        "version": 3,
        "name": "ipython"
      }
    }
  },
  "nbformat": 4,
  "nbformat_minor": 1
}